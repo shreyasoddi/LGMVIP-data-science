{
  "nbformat": 4,
  "nbformat_minor": 0,
  "metadata": {
    "colab": {
      "provenance": [],
      "authorship_tag": "ABX9TyOCzE2ncdqiczGstj9wUteu",
      "include_colab_link": true
    },
    "kernelspec": {
      "name": "python3",
      "display_name": "Python 3"
    },
    "language_info": {
      "name": "python"
    }
  },
  "cells": [
    {
      "cell_type": "markdown",
      "metadata": {
        "id": "view-in-github",
        "colab_type": "text"
      },
      "source": [
        "<a href=\"https://colab.research.google.com/github/shreyasoddi/LGMVIP-data-science/blob/main/stock_market_prediction.ipynb\" target=\"_parent\"><img src=\"https://colab.research.google.com/assets/colab-badge.svg\" alt=\"Open In Colab\"/></a>"
      ]
    },
    {
      "cell_type": "code",
      "execution_count": 1,
      "metadata": {
        "id": "XkYAr4mC8Lnx"
      },
      "outputs": [],
      "source": [
        "import numpy as np\n",
        "import pandas as pd\n",
        "import matplotlib.pyplot as plt"
      ]
    },
    {
      "cell_type": "code",
      "source": [
        "url = '/content/NSE-TATAGLOBAL.csv'\n",
        "data_train = pd.read_csv(url)\n",
        "train_set = data_train.iloc[:, 1:2].values"
      ],
      "metadata": {
        "id": "8bjz8mqc8wtd"
      },
      "execution_count": 3,
      "outputs": []
    },
    {
      "cell_type": "code",
      "source": [
        "data_train.head()"
      ],
      "metadata": {
        "colab": {
          "base_uri": "https://localhost:8080/",
          "height": 206
        },
        "id": "wwGXGuiQ9QpY",
        "outputId": "49690945-7324-4f4e-8a81-86936ab07513"
      },
      "execution_count": 4,
      "outputs": [
        {
          "output_type": "execute_result",
          "data": {
            "text/plain": [
              "         Date    Open    High     Low    Last   Close  Total Trade Quantity  \\\n",
              "0  2018-09-28  234.05  235.95  230.20  233.50  233.75               3069914   \n",
              "1  2018-09-27  234.55  236.80  231.10  233.80  233.25               5082859   \n",
              "2  2018-09-26  240.00  240.00  232.50  235.00  234.25               2240909   \n",
              "3  2018-09-25  233.30  236.75  232.00  236.25  236.10               2349368   \n",
              "4  2018-09-24  233.55  239.20  230.75  234.00  233.30               3423509   \n",
              "\n",
              "   Turnover (Lacs)  \n",
              "0          7162.35  \n",
              "1         11859.95  \n",
              "2          5248.60  \n",
              "3          5503.90  \n",
              "4          7999.55  "
            ],
            "text/html": [
              "\n",
              "  <div id=\"df-3aa208c8-9406-42c9-a9c6-14819e36b11c\">\n",
              "    <div class=\"colab-df-container\">\n",
              "      <div>\n",
              "<style scoped>\n",
              "    .dataframe tbody tr th:only-of-type {\n",
              "        vertical-align: middle;\n",
              "    }\n",
              "\n",
              "    .dataframe tbody tr th {\n",
              "        vertical-align: top;\n",
              "    }\n",
              "\n",
              "    .dataframe thead th {\n",
              "        text-align: right;\n",
              "    }\n",
              "</style>\n",
              "<table border=\"1\" class=\"dataframe\">\n",
              "  <thead>\n",
              "    <tr style=\"text-align: right;\">\n",
              "      <th></th>\n",
              "      <th>Date</th>\n",
              "      <th>Open</th>\n",
              "      <th>High</th>\n",
              "      <th>Low</th>\n",
              "      <th>Last</th>\n",
              "      <th>Close</th>\n",
              "      <th>Total Trade Quantity</th>\n",
              "      <th>Turnover (Lacs)</th>\n",
              "    </tr>\n",
              "  </thead>\n",
              "  <tbody>\n",
              "    <tr>\n",
              "      <th>0</th>\n",
              "      <td>2018-09-28</td>\n",
              "      <td>234.05</td>\n",
              "      <td>235.95</td>\n",
              "      <td>230.20</td>\n",
              "      <td>233.50</td>\n",
              "      <td>233.75</td>\n",
              "      <td>3069914</td>\n",
              "      <td>7162.35</td>\n",
              "    </tr>\n",
              "    <tr>\n",
              "      <th>1</th>\n",
              "      <td>2018-09-27</td>\n",
              "      <td>234.55</td>\n",
              "      <td>236.80</td>\n",
              "      <td>231.10</td>\n",
              "      <td>233.80</td>\n",
              "      <td>233.25</td>\n",
              "      <td>5082859</td>\n",
              "      <td>11859.95</td>\n",
              "    </tr>\n",
              "    <tr>\n",
              "      <th>2</th>\n",
              "      <td>2018-09-26</td>\n",
              "      <td>240.00</td>\n",
              "      <td>240.00</td>\n",
              "      <td>232.50</td>\n",
              "      <td>235.00</td>\n",
              "      <td>234.25</td>\n",
              "      <td>2240909</td>\n",
              "      <td>5248.60</td>\n",
              "    </tr>\n",
              "    <tr>\n",
              "      <th>3</th>\n",
              "      <td>2018-09-25</td>\n",
              "      <td>233.30</td>\n",
              "      <td>236.75</td>\n",
              "      <td>232.00</td>\n",
              "      <td>236.25</td>\n",
              "      <td>236.10</td>\n",
              "      <td>2349368</td>\n",
              "      <td>5503.90</td>\n",
              "    </tr>\n",
              "    <tr>\n",
              "      <th>4</th>\n",
              "      <td>2018-09-24</td>\n",
              "      <td>233.55</td>\n",
              "      <td>239.20</td>\n",
              "      <td>230.75</td>\n",
              "      <td>234.00</td>\n",
              "      <td>233.30</td>\n",
              "      <td>3423509</td>\n",
              "      <td>7999.55</td>\n",
              "    </tr>\n",
              "  </tbody>\n",
              "</table>\n",
              "</div>\n",
              "      <button class=\"colab-df-convert\" onclick=\"convertToInteractive('df-3aa208c8-9406-42c9-a9c6-14819e36b11c')\"\n",
              "              title=\"Convert this dataframe to an interactive table.\"\n",
              "              style=\"display:none;\">\n",
              "        \n",
              "  <svg xmlns=\"http://www.w3.org/2000/svg\" height=\"24px\"viewBox=\"0 0 24 24\"\n",
              "       width=\"24px\">\n",
              "    <path d=\"M0 0h24v24H0V0z\" fill=\"none\"/>\n",
              "    <path d=\"M18.56 5.44l.94 2.06.94-2.06 2.06-.94-2.06-.94-.94-2.06-.94 2.06-2.06.94zm-11 1L8.5 8.5l.94-2.06 2.06-.94-2.06-.94L8.5 2.5l-.94 2.06-2.06.94zm10 10l.94 2.06.94-2.06 2.06-.94-2.06-.94-.94-2.06-.94 2.06-2.06.94z\"/><path d=\"M17.41 7.96l-1.37-1.37c-.4-.4-.92-.59-1.43-.59-.52 0-1.04.2-1.43.59L10.3 9.45l-7.72 7.72c-.78.78-.78 2.05 0 2.83L4 21.41c.39.39.9.59 1.41.59.51 0 1.02-.2 1.41-.59l7.78-7.78 2.81-2.81c.8-.78.8-2.07 0-2.86zM5.41 20L4 18.59l7.72-7.72 1.47 1.35L5.41 20z\"/>\n",
              "  </svg>\n",
              "      </button>\n",
              "      \n",
              "  <style>\n",
              "    .colab-df-container {\n",
              "      display:flex;\n",
              "      flex-wrap:wrap;\n",
              "      gap: 12px;\n",
              "    }\n",
              "\n",
              "    .colab-df-convert {\n",
              "      background-color: #E8F0FE;\n",
              "      border: none;\n",
              "      border-radius: 50%;\n",
              "      cursor: pointer;\n",
              "      display: none;\n",
              "      fill: #1967D2;\n",
              "      height: 32px;\n",
              "      padding: 0 0 0 0;\n",
              "      width: 32px;\n",
              "    }\n",
              "\n",
              "    .colab-df-convert:hover {\n",
              "      background-color: #E2EBFA;\n",
              "      box-shadow: 0px 1px 2px rgba(60, 64, 67, 0.3), 0px 1px 3px 1px rgba(60, 64, 67, 0.15);\n",
              "      fill: #174EA6;\n",
              "    }\n",
              "\n",
              "    [theme=dark] .colab-df-convert {\n",
              "      background-color: #3B4455;\n",
              "      fill: #D2E3FC;\n",
              "    }\n",
              "\n",
              "    [theme=dark] .colab-df-convert:hover {\n",
              "      background-color: #434B5C;\n",
              "      box-shadow: 0px 1px 3px 1px rgba(0, 0, 0, 0.15);\n",
              "      filter: drop-shadow(0px 1px 2px rgba(0, 0, 0, 0.3));\n",
              "      fill: #FFFFFF;\n",
              "    }\n",
              "  </style>\n",
              "\n",
              "      <script>\n",
              "        const buttonEl =\n",
              "          document.querySelector('#df-3aa208c8-9406-42c9-a9c6-14819e36b11c button.colab-df-convert');\n",
              "        buttonEl.style.display =\n",
              "          google.colab.kernel.accessAllowed ? 'block' : 'none';\n",
              "\n",
              "        async function convertToInteractive(key) {\n",
              "          const element = document.querySelector('#df-3aa208c8-9406-42c9-a9c6-14819e36b11c');\n",
              "          const dataTable =\n",
              "            await google.colab.kernel.invokeFunction('convertToInteractive',\n",
              "                                                     [key], {});\n",
              "          if (!dataTable) return;\n",
              "\n",
              "          const docLinkHtml = 'Like what you see? Visit the ' +\n",
              "            '<a target=\"_blank\" href=https://colab.research.google.com/notebooks/data_table.ipynb>data table notebook</a>'\n",
              "            + ' to learn more about interactive tables.';\n",
              "          element.innerHTML = '';\n",
              "          dataTable['output_type'] = 'display_data';\n",
              "          await google.colab.output.renderOutput(dataTable, element);\n",
              "          const docLink = document.createElement('div');\n",
              "          docLink.innerHTML = docLinkHtml;\n",
              "          element.appendChild(docLink);\n",
              "        }\n",
              "      </script>\n",
              "    </div>\n",
              "  </div>\n",
              "  "
            ]
          },
          "metadata": {},
          "execution_count": 4
        }
      ]
    },
    {
      "cell_type": "code",
      "source": [
        "dataclose = data_train['Close']\n",
        "dataclose"
      ],
      "metadata": {
        "colab": {
          "base_uri": "https://localhost:8080/"
        },
        "id": "zaFJCqLL9aHi",
        "outputId": "2328b616-715d-4cd8-ffed-92a7e71b0856"
      },
      "execution_count": 5,
      "outputs": [
        {
          "output_type": "execute_result",
          "data": {
            "text/plain": [
              "0       233.75\n",
              "1       233.25\n",
              "2       234.25\n",
              "3       236.10\n",
              "4       233.30\n",
              "         ...  \n",
              "2030    118.65\n",
              "2031    117.60\n",
              "2032    120.65\n",
              "2033    120.90\n",
              "2034    121.55\n",
              "Name: Close, Length: 2035, dtype: float64"
            ]
          },
          "metadata": {},
          "execution_count": 5
        }
      ]
    },
    {
      "cell_type": "code",
      "source": [
        "plt.plot(dataclose)"
      ],
      "metadata": {
        "colab": {
          "base_uri": "https://localhost:8080/",
          "height": 447
        },
        "id": "XDyEXq0u9lbQ",
        "outputId": "bc426e74-f4ae-4e96-a3f0-796ec7440456"
      },
      "execution_count": 6,
      "outputs": [
        {
          "output_type": "execute_result",
          "data": {
            "text/plain": [
              "[<matplotlib.lines.Line2D at 0x7f8f99ccb130>]"
            ]
          },
          "metadata": {},
          "execution_count": 6
        },
        {
          "output_type": "display_data",
          "data": {
            "text/plain": [
              "<Figure size 640x480 with 1 Axes>"
            ],
            "image/png": "[encoded data removed]"
          },
          "metadata": {}
        }
      ]
    },
    {
      "cell_type": "markdown",
      "source": [
        "PREPROCESSING"
      ],
      "metadata": {
        "id": "ieqXX1MM9vWx"
      }
    },
    {
      "cell_type": "markdown",
      "source": [
        "normalization"
      ],
      "metadata": {
        "id": "fpcBZUZi93un"
      }
    },
    {
      "cell_type": "code",
      "source": [
        "from sklearn.preprocessing import MinMaxScaler\n",
        "SC = MinMaxScaler(feature_range = (0,1))\n",
        "dataclose = SC.fit_transform(np.array(dataclose).reshape(-1,1))"
      ],
      "metadata": {
        "id": "5UKAdscw9rU5"
      },
      "execution_count": 7,
      "outputs": []
    },
    {
      "cell_type": "code",
      "source": [
        "dataclose.shape"
      ],
      "metadata": {
        "colab": {
          "base_uri": "https://localhost:8080/"
        },
        "id": "5PcXg0cV-lDh",
        "outputId": "0b35ef08-b503-4407-ae37-adc90bb3bc7f"
      },
      "execution_count": 8,
      "outputs": [
        {
          "output_type": "execute_result",
          "data": {
            "text/plain": [
              "(2035, 1)"
            ]
          },
          "metadata": {},
          "execution_count": 8
        }
      ]
    },
    {
      "cell_type": "markdown",
      "source": [
        "SPLITTING THE TRAINING AND TESTING SET"
      ],
      "metadata": {
        "id": "lhvk3huI-uxM"
      }
    },
    {
      "cell_type": "code",
      "source": [
        "training_size = int(len(dataclose) * 0.75)\n",
        "test_size = len(dataclose - training_size)\n",
        "train_data, test_data = dataclose[0:training_size,:], dataclose[training_size:len(dataclose),:1]"
      ],
      "metadata": {
        "id": "KBdPZQwF-sx4"
      },
      "execution_count": 9,
      "outputs": []
    },
    {
      "cell_type": "code",
      "source": [
        "def create_dataset(dataset, time_step = 1):\n",
        "    dataX, dataY = [], []\n",
        "    for i in range(len(dataset) - time_step - 1):\n",
        "        a = dataset[i:(i+time_step), 0]\n",
        "        dataX.append(a)\n",
        "        dataY.append(dataset[i+time_step, 0])\n",
        "    return np.array(dataX), np.array(dataY)"
      ],
      "metadata": {
        "id": "Li-yg8N5Aw0R"
      },
      "execution_count": 10,
      "outputs": []
    },
    {
      "cell_type": "markdown",
      "source": [],
      "metadata": {
        "id": "Ge-HYQy5C1BL"
      }
    },
    {
      "cell_type": "code",
      "source": [
        "time_step = 100\n",
        "x_train, y_train = create_dataset(train_data, time_step)\n",
        "x_test, y_test = create_dataset(test_data, time_step)"
      ],
      "metadata": {
        "id": "wIWhBPDnB3rN"
      },
      "execution_count": 11,
      "outputs": []
    },
    {
      "cell_type": "markdown",
      "source": [
        "Reshape the input to be [samples,time steps,features]which is the requirement of LSTM"
      ],
      "metadata": {
        "id": "PNohXDd4C_ec"
      }
    },
    {
      "cell_type": "code",
      "source": [
        "x_train = x_train.reshape(x_train.shape[0], x_train.shape[1], 1)\n",
        "x_test = x_test.reshape(x_test.shape[0], x_test.shape[1], 1)"
      ],
      "metadata": {
        "id": "96bGXF8QCZ7C"
      },
      "execution_count": 16,
      "outputs": []
    },
    {
      "cell_type": "markdown",
      "source": [
        "MODEL BUILDING"
      ],
      "metadata": {
        "id": "9lIKpIkcFBwD"
      }
    },
    {
      "cell_type": "code",
      "source": [
        "#create the LSTM model\n",
        "from keras.models import Sequential\n",
        "from keras.layers import LSTM\n",
        "from keras.layers import Dropout\n",
        "from keras.layers import Dense\n",
        "model = Sequential()\n",
        "model.add(LSTM(50, return_sequences = True, input_shape = (100,1)))\n",
        "model.add(LSTM(50, return_sequences = True))\n",
        "model.add(LSTM(50))\n",
        "model.add(Dense(1))\n",
        "model.compile(loss = 'mean_squared_error', optimizer = 'adam')"
      ],
      "metadata": {
        "id": "OxPHATSuFGPL"
      },
      "execution_count": 17,
      "outputs": []
    },
    {
      "cell_type": "markdown",
      "source": [],
      "metadata": {
        "id": "32BcIj6RCxf-"
      }
    },
    {
      "cell_type": "code",
      "source": [
        "model.summary()"
      ],
      "metadata": {
        "colab": {
          "base_uri": "https://localhost:8080/"
        },
        "id": "C-eMlHUTHvUj",
        "outputId": "74d83d4f-c8ed-4fad-aae4-6f65522ea260"
      },
      "execution_count": 18,
      "outputs": [
        {
          "output_type": "stream",
          "name": "stdout",
          "text": [
            "Model: \"sequential\"\n",
            "_________________________________________________________________\n",
            " Layer (type)                Output Shape              Param #   \n",
            "=================================================================\n",
            " lstm (LSTM)                 (None, 100, 50)           10400     \n",
            "                                                                 \n",
            " lstm_1 (LSTM)               (None, 100, 50)           20200     \n",
            "                                                                 \n",
            " lstm_2 (LSTM)               (None, 50)                20200     \n",
            "                                                                 \n",
            " dense (Dense)               (None, 1)                 51        \n",
            "                                                                 \n",
            "=================================================================\n",
            "Total params: 50,851\n",
            "Trainable params: 50,851\n",
            "Non-trainable params: 0\n",
            "_________________________________________________________________\n"
          ]
        }
      ]
    },
    {
      "cell_type": "code",
      "source": [
        "model.summary()"
      ],
      "metadata": {
        "colab": {
          "base_uri": "https://localhost:8080/"
        },
        "id": "XScCVG1EHyiC",
        "outputId": "18cd5dfe-c132-416e-8d0d-f34b659efa66"
      },
      "execution_count": 19,
      "outputs": [
        {
          "output_type": "stream",
          "name": "stdout",
          "text": [
            "Model: \"sequential\"\n",
            "_________________________________________________________________\n",
            " Layer (type)                Output Shape              Param #   \n",
            "=================================================================\n",
            " lstm (LSTM)                 (None, 100, 50)           10400     \n",
            "                                                                 \n",
            " lstm_1 (LSTM)               (None, 100, 50)           20200     \n",
            "                                                                 \n",
            " lstm_2 (LSTM)               (None, 50)                20200     \n",
            "                                                                 \n",
            " dense (Dense)               (None, 1)                 51        \n",
            "                                                                 \n",
            "=================================================================\n",
            "Total params: 50,851\n",
            "Trainable params: 50,851\n",
            "Non-trainable params: 0\n",
            "_________________________________________________________________\n"
          ]
        }
      ]
    },
    {
      "cell_type": "code",
      "source": [
        "model.fit(x_train, y_train, validation_data = (x_test, y_test), epochs = 100, batch_size = 64, verbose = 1)"
      ],
      "metadata": {
        "colab": {
          "base_uri": "https://localhost:8080/"
        },
        "id": "3zAyKTSAIAIJ",
        "outputId": "c68f4e44-d274-4275-ac50-e1ee1a42c705"
      },
      "execution_count": 20,
      "outputs": [
        {
          "metadata": {
            "tags": null
          },
          "name": "stdout",
          "output_type": "stream",
          "text": [
            "Epoch 1/100\n",
            "23/23 [==============================] - 14s 302ms/step - loss: 0.0194 - val_loss: 0.0059\n",
            "Epoch 2/100\n",
            "23/23 [==============================] - 5s 212ms/step - loss: 0.0024 - val_loss: 8.5447e-04\n",
            "Epoch 3/100\n",
            "23/23 [==============================] - 6s 262ms/step - loss: 0.0016 - val_loss: 9.8680e-04\n",
            "Epoch 4/100\n",
            "23/23 [==============================] - 5s 213ms/step - loss: 0.0014 - val_loss: 0.0011\n",
            "Epoch 5/100\n",
            "23/23 [==============================] - 6s 265ms/step - loss: 0.0014 - val_loss: 9.0750e-04\n",
            "Epoch 6/100\n",
            "23/23 [==============================] - 5s 214ms/step - loss: 0.0014 - val_loss: 9.0056e-04\n",
            "Epoch 7/100\n",
            "23/23 [==============================] - 6s 269ms/step - loss: 0.0014 - val_loss: 0.0012\n",
            "Epoch 8/100\n",
            "23/23 [==============================] - 5s 218ms/step - loss: 0.0012 - val_loss: 0.0011\n",
            "Epoch 9/100\n",
            "23/23 [==============================] - 5s 212ms/step - loss: 0.0011 - val_loss: 8.1381e-04\n",
            "Epoch 10/100\n",
            "23/23 [==============================] - 7s 315ms/step - loss: 0.0011 - val_loss: 0.0010\n",
            "Epoch 11/100\n",
            "23/23 [==============================] - 6s 236ms/step - loss: 9.6447e-04 - val_loss: 9.9291e-04\n",
            "Epoch 12/100\n",
            "23/23 [==============================] - 8s 364ms/step - loss: 0.0010 - val_loss: 7.4185e-04\n",
            "Epoch 13/100\n",
            "23/23 [==============================] - 6s 243ms/step - loss: 8.9613e-04 - val_loss: 8.9401e-04\n",
            "Epoch 14/100\n",
            "23/23 [==============================] - 6s 275ms/step - loss: 9.3736e-04 - val_loss: 7.4698e-04\n",
            "Epoch 15/100\n",
            "23/23 [==============================] - 5s 218ms/step - loss: 8.6180e-04 - val_loss: 9.6429e-04\n",
            "Epoch 16/100\n",
            "23/23 [==============================] - 6s 270ms/step - loss: 8.5581e-04 - val_loss: 6.9416e-04\n",
            "Epoch 17/100\n",
            "23/23 [==============================] - 5s 218ms/step - loss: 8.3203e-04 - val_loss: 7.1948e-04\n",
            "Epoch 18/100\n",
            "23/23 [==============================] - 6s 242ms/step - loss: 7.2638e-04 - val_loss: 8.9708e-04\n",
            "Epoch 19/100\n",
            "23/23 [==============================] - 6s 236ms/step - loss: 7.0099e-04 - val_loss: 8.1653e-04\n",
            "Epoch 20/100\n",
            "23/23 [==============================] - 5s 226ms/step - loss: 7.0710e-04 - val_loss: 8.1174e-04\n",
            "Epoch 21/100\n",
            "23/23 [==============================] - 6s 273ms/step - loss: 6.9848e-04 - val_loss: 5.8125e-04\n",
            "Epoch 22/100\n",
            "23/23 [==============================] - 10s 428ms/step - loss: 7.3221e-04 - val_loss: 8.8737e-04\n",
            "Epoch 23/100\n",
            "23/23 [==============================] - 5s 226ms/step - loss: 6.3363e-04 - val_loss: 8.9355e-04\n",
            "Epoch 24/100\n",
            "23/23 [==============================] - 5s 220ms/step - loss: 6.2833e-04 - val_loss: 6.1606e-04\n",
            "Epoch 25/100\n",
            "23/23 [==============================] - 6s 274ms/step - loss: 6.2922e-04 - val_loss: 5.2268e-04\n",
            "Epoch 26/100\n",
            "23/23 [==============================] - 5s 219ms/step - loss: 6.6794e-04 - val_loss: 6.9461e-04\n",
            "Epoch 27/100\n",
            "23/23 [==============================] - 6s 276ms/step - loss: 5.5607e-04 - val_loss: 7.1564e-04\n",
            "Epoch 28/100\n",
            "23/23 [==============================] - 5s 222ms/step - loss: 5.9897e-04 - val_loss: 6.6327e-04\n",
            "Epoch 29/100\n",
            "23/23 [==============================] - 7s 298ms/step - loss: 6.0342e-04 - val_loss: 5.9040e-04\n",
            "Epoch 30/100\n",
            "23/23 [==============================] - 5s 223ms/step - loss: 6.0958e-04 - val_loss: 7.3760e-04\n",
            "Epoch 31/100\n",
            "23/23 [==============================] - 5s 237ms/step - loss: 5.8095e-04 - val_loss: 5.1995e-04\n",
            "Epoch 32/100\n",
            "23/23 [==============================] - 6s 246ms/step - loss: 4.8866e-04 - val_loss: 5.7652e-04\n",
            "Epoch 33/100\n",
            "23/23 [==============================] - 5s 222ms/step - loss: 4.8354e-04 - val_loss: 4.6331e-04\n",
            "Epoch 34/100\n",
            "23/23 [==============================] - 6s 277ms/step - loss: 4.6996e-04 - val_loss: 4.8461e-04\n",
            "Epoch 35/100\n",
            "23/23 [==============================] - 5s 227ms/step - loss: 4.6366e-04 - val_loss: 6.7601e-04\n",
            "Epoch 36/100\n",
            "23/23 [==============================] - 6s 277ms/step - loss: 5.7770e-04 - val_loss: 5.3119e-04\n",
            "Epoch 37/100\n",
            "23/23 [==============================] - 5s 223ms/step - loss: 5.2295e-04 - val_loss: 4.2437e-04\n",
            "Epoch 38/100\n",
            "23/23 [==============================] - 7s 288ms/step - loss: 4.5336e-04 - val_loss: 4.1623e-04\n",
            "Epoch 39/100\n",
            "23/23 [==============================] - 5s 222ms/step - loss: 4.2887e-04 - val_loss: 3.8406e-04\n",
            "Epoch 40/100\n",
            "23/23 [==============================] - 5s 238ms/step - loss: 4.1934e-04 - val_loss: 4.9856e-04\n",
            "Epoch 41/100\n",
            "23/23 [==============================] - 6s 254ms/step - loss: 4.3974e-04 - val_loss: 3.8880e-04\n",
            "Epoch 42/100\n",
            "23/23 [==============================] - 5s 218ms/step - loss: 4.0280e-04 - val_loss: 5.3360e-04\n",
            "Epoch 43/100\n",
            "23/23 [==============================] - 6s 280ms/step - loss: 4.0689e-04 - val_loss: 7.3920e-04\n",
            "Epoch 44/100\n",
            "23/23 [==============================] - 5s 225ms/step - loss: 4.1313e-04 - val_loss: 5.4207e-04\n",
            "Epoch 45/100\n",
            "23/23 [==============================] - 6s 279ms/step - loss: 4.2157e-04 - val_loss: 4.9688e-04\n",
            "Epoch 46/100\n",
            "23/23 [==============================] - 5s 230ms/step - loss: 4.5416e-04 - val_loss: 6.1408e-04\n",
            "Epoch 47/100\n",
            "23/23 [==============================] - 7s 299ms/step - loss: 4.1450e-04 - val_loss: 5.1482e-04\n",
            "Epoch 48/100\n",
            "23/23 [==============================] - 5s 226ms/step - loss: 4.1802e-04 - val_loss: 3.4271e-04\n",
            "Epoch 49/100\n",
            "23/23 [==============================] - 6s 254ms/step - loss: 3.4715e-04 - val_loss: 3.6177e-04\n",
            "Epoch 50/100\n",
            "23/23 [==============================] - 6s 245ms/step - loss: 3.3470e-04 - val_loss: 3.2567e-04\n",
            "Epoch 51/100\n",
            "23/23 [==============================] - 5s 231ms/step - loss: 3.6610e-04 - val_loss: 3.2863e-04\n",
            "Epoch 52/100\n",
            "23/23 [==============================] - 6s 278ms/step - loss: 3.3802e-04 - val_loss: 2.9386e-04\n",
            "Epoch 53/100\n",
            "23/23 [==============================] - 5s 226ms/step - loss: 3.5426e-04 - val_loss: 2.7990e-04\n",
            "Epoch 54/100\n",
            "23/23 [==============================] - 6s 277ms/step - loss: 3.2446e-04 - val_loss: 2.9918e-04\n",
            "Epoch 55/100\n",
            "23/23 [==============================] - 5s 224ms/step - loss: 3.1270e-04 - val_loss: 3.0381e-04\n",
            "Epoch 56/100\n",
            "23/23 [==============================] - 6s 285ms/step - loss: 3.4918e-04 - val_loss: 3.4407e-04\n",
            "Epoch 57/100\n",
            "23/23 [==============================] - 5s 229ms/step - loss: 3.3659e-04 - val_loss: 2.4524e-04\n",
            "Epoch 58/100\n",
            "23/23 [==============================] - 6s 252ms/step - loss: 3.1215e-04 - val_loss: 3.1116e-04\n",
            "Epoch 59/100\n",
            "23/23 [==============================] - 6s 241ms/step - loss: 2.8732e-04 - val_loss: 3.6879e-04\n",
            "Epoch 60/100\n",
            "23/23 [==============================] - 5s 227ms/step - loss: 2.8817e-04 - val_loss: 2.8359e-04\n",
            "Epoch 61/100\n",
            "23/23 [==============================] - 6s 279ms/step - loss: 2.9950e-04 - val_loss: 2.5997e-04\n",
            "Epoch 62/100\n",
            "23/23 [==============================] - 5s 231ms/step - loss: 3.2193e-04 - val_loss: 2.8754e-04\n",
            "Epoch 63/100\n",
            "23/23 [==============================] - 6s 279ms/step - loss: 2.9716e-04 - val_loss: 2.9147e-04\n",
            "Epoch 64/100\n",
            "23/23 [==============================] - 5s 227ms/step - loss: 2.9869e-04 - val_loss: 2.7141e-04\n",
            "Epoch 65/100\n",
            "23/23 [==============================] - 6s 281ms/step - loss: 2.8935e-04 - val_loss: 2.7151e-04\n",
            "Epoch 66/100\n",
            "23/23 [==============================] - 5s 229ms/step - loss: 2.8331e-04 - val_loss: 2.3126e-04\n",
            "Epoch 67/100\n",
            "23/23 [==============================] - 6s 267ms/step - loss: 2.9000e-04 - val_loss: 2.7299e-04\n",
            "Epoch 68/100\n",
            "23/23 [==============================] - 5s 230ms/step - loss: 2.7216e-04 - val_loss: 3.3894e-04\n",
            "Epoch 69/100\n",
            "23/23 [==============================] - 5s 233ms/step - loss: 2.8152e-04 - val_loss: 2.7035e-04\n",
            "Epoch 70/100\n",
            "23/23 [==============================] - 6s 266ms/step - loss: 2.7684e-04 - val_loss: 2.1083e-04\n",
            "Epoch 71/100\n",
            "23/23 [==============================] - 5s 227ms/step - loss: 3.7447e-04 - val_loss: 3.0058e-04\n",
            "Epoch 72/100\n",
            "23/23 [==============================] - 6s 284ms/step - loss: 2.9935e-04 - val_loss: 3.1568e-04\n",
            "Epoch 73/100\n",
            "23/23 [==============================] - 5s 224ms/step - loss: 2.5830e-04 - val_loss: 2.4591e-04\n",
            "Epoch 74/100\n",
            "23/23 [==============================] - 6s 279ms/step - loss: 2.3853e-04 - val_loss: 1.8887e-04\n",
            "Epoch 75/100\n",
            "23/23 [==============================] - 5s 224ms/step - loss: 2.3548e-04 - val_loss: 2.3527e-04\n",
            "Epoch 76/100\n",
            "23/23 [==============================] - 6s 272ms/step - loss: 2.7753e-04 - val_loss: 2.2819e-04\n",
            "Epoch 77/100\n",
            "23/23 [==============================] - 5s 226ms/step - loss: 2.3697e-04 - val_loss: 3.1486e-04\n",
            "Epoch 78/100\n",
            "23/23 [==============================] - 5s 234ms/step - loss: 2.3537e-04 - val_loss: 2.5398e-04\n",
            "Epoch 79/100\n",
            "23/23 [==============================] - 6s 265ms/step - loss: 2.2321e-04 - val_loss: 2.1896e-04\n",
            "Epoch 80/100\n",
            "23/23 [==============================] - 5s 224ms/step - loss: 2.3013e-04 - val_loss: 2.3831e-04\n",
            "Epoch 81/100\n",
            "23/23 [==============================] - 6s 281ms/step - loss: 2.2944e-04 - val_loss: 1.8076e-04\n",
            "Epoch 82/100\n",
            "23/23 [==============================] - 5s 228ms/step - loss: 2.4580e-04 - val_loss: 3.0708e-04\n",
            "Epoch 83/100\n",
            "23/23 [==============================] - 6s 281ms/step - loss: 2.1507e-04 - val_loss: 2.7104e-04\n",
            "Epoch 84/100\n",
            "23/23 [==============================] - 5s 228ms/step - loss: 2.3577e-04 - val_loss: 1.9768e-04\n",
            "Epoch 85/100\n",
            "23/23 [==============================] - 6s 272ms/step - loss: 2.1740e-04 - val_loss: 2.0995e-04\n",
            "Epoch 86/100\n",
            "23/23 [==============================] - 5s 227ms/step - loss: 2.3683e-04 - val_loss: 1.8030e-04\n",
            "Epoch 87/100\n",
            "23/23 [==============================] - 5s 235ms/step - loss: 2.5829e-04 - val_loss: 2.4133e-04\n",
            "Epoch 88/100\n",
            "23/23 [==============================] - 6s 259ms/step - loss: 2.4306e-04 - val_loss: 1.6678e-04\n",
            "Epoch 89/100\n",
            "23/23 [==============================] - 5s 222ms/step - loss: 2.4276e-04 - val_loss: 2.1893e-04\n",
            "Epoch 90/100\n",
            "23/23 [==============================] - 7s 290ms/step - loss: 2.1026e-04 - val_loss: 1.6001e-04\n",
            "Epoch 91/100\n",
            "23/23 [==============================] - 5s 224ms/step - loss: 2.2931e-04 - val_loss: 2.1043e-04\n",
            "Epoch 92/100\n",
            "23/23 [==============================] - 6s 279ms/step - loss: 2.1915e-04 - val_loss: 2.0636e-04\n",
            "Epoch 93/100\n",
            "23/23 [==============================] - 5s 224ms/step - loss: 2.1229e-04 - val_loss: 2.0918e-04\n",
            "Epoch 94/100\n",
            "23/23 [==============================] - 6s 271ms/step - loss: 2.6103e-04 - val_loss: 3.1703e-04\n",
            "Epoch 95/100\n",
            "23/23 [==============================] - 5s 226ms/step - loss: 4.0257e-04 - val_loss: 1.7558e-04\n",
            "Epoch 96/100\n",
            "23/23 [==============================] - 5s 235ms/step - loss: 2.1233e-04 - val_loss: 2.0815e-04\n",
            "Epoch 97/100\n",
            "23/23 [==============================] - 6s 256ms/step - loss: 2.0524e-04 - val_loss: 1.9165e-04\n",
            "Epoch 98/100\n",
            "23/23 [==============================] - 5s 228ms/step - loss: 2.0720e-04 - val_loss: 1.9250e-04\n",
            "Epoch 99/100\n",
            "23/23 [==============================] - 6s 263ms/step - loss: 2.1451e-04 - val_loss: 1.8521e-04\n",
            "Epoch 100/100\n",
            "23/23 [==============================] - 5s 225ms/step - loss: 2.1234e-04 - val_loss: 1.8797e-04\n"
          ]
        },
        {
          "output_type": "execute_result",
          "data": {
            "text/plain": [
              "<keras.callbacks.History at 0x7f8f38990fd0>"
            ]
          },
          "metadata": {},
          "execution_count": 20
        }
      ]
    },
    {
      "cell_type": "code",
      "source": [
        "#lets predict and check performance metrics\n",
        "trainpredict = model.predict(x_train)\n",
        "testpredict = model.predict(x_test)"
      ],
      "metadata": {
        "colab": {
          "base_uri": "https://localhost:8080/"
        },
        "id": "wHgt2DcjIhHU",
        "outputId": "5d3e12f7-0378-46c3-c318-0eec947000c8"
      },
      "execution_count": 21,
      "outputs": [
        {
          "output_type": "stream",
          "name": "stdout",
          "text": [
            "45/45 [==============================] - 6s 63ms/step\n",
            "13/13 [==============================] - 1s 64ms/step\n"
          ]
        }
      ]
    },
    {
      "cell_type": "code",
      "source": [
        "#transform back to original form\n",
        "trainpredict = SC.inverse_transform(trainpredict)\n",
        "testpredict = SC.inverse_transform(testpredict)"
      ],
      "metadata": {
        "id": "8G-RQPGLLiq1"
      },
      "execution_count": 22,
      "outputs": []
    },
    {
      "cell_type": "code",
      "source": [
        "##RMSE TRAIN DATA\n",
        "import math\n",
        "from sklearn.metrics import mean_squared_error\n",
        "math.sqrt(mean_squared_error(y_train, trainpredict))"
      ],
      "metadata": {
        "colab": {
          "base_uri": "https://localhost:8080/"
        },
        "id": "y9nOAHbSMD0p",
        "outputId": "12deaa32-6726-49ef-cb69-c03182bcd523"
      },
      "execution_count": 23,
      "outputs": [
        {
          "output_type": "execute_result",
          "data": {
            "text/plain": [
              "163.2205984669201"
            ]
          },
          "metadata": {},
          "execution_count": 23
        }
      ]
    },
    {
      "cell_type": "code",
      "source": [
        "#RMSE TEST DATA\n",
        "math.sqrt(mean_squared_error(y_test, testpredict))"
      ],
      "metadata": {
        "colab": {
          "base_uri": "https://localhost:8080/"
        },
        "id": "LXHChgw2Mgpx",
        "outputId": "218682ff-7769-4b83-fef6-68bbdad13b92"
      },
      "execution_count": 24,
      "outputs": [
        {
          "output_type": "execute_result",
          "data": {
            "text/plain": [
              "105.84007188002539"
            ]
          },
          "metadata": {},
          "execution_count": 24
        }
      ]
    },
    {
      "cell_type": "code",
      "source": [
        "#plotting\n",
        "#shift train prediction for plotting\n",
        "look_back = 100\n",
        "trainpredictplot = np.empty_like(dataclose)\n",
        "trainpredictplot[:,:] = np.nan\n",
        "trainpredictplot[look_back:len(trainpredict) + look_back, :] = trainpredict\n",
        "\n",
        "#shift test prediction for plotting\n",
        "testpredictplot = np.empty_like(dataclose)\n",
        "testpredictplot[:,:] = np.nan\n",
        "testpredictplot[len(trainpredict) + (look_back * 2)+1:len(dataclose) - 1, :] = testpredict\n",
        "\n",
        "#plot baseline and predictions\n",
        "plt.plot(SC.inverse_transform(dataclose))\n",
        "plt.plot(trainpredictplot)\n",
        "plt.plot(testpredictplot)\n",
        "plt.show()"
      ],
      "metadata": {
        "colab": {
          "base_uri": "https://localhost:8080/",
          "height": 430
        },
        "id": "iTNmt7qxM5Hx",
        "outputId": "d59d45fa-2b1c-42de-f09f-13ca2aa20740"
      },
      "execution_count": 26,
      "outputs": [
        {
          "output_type": "display_data",
          "data": {
            "text/plain": [
              "<Figure size 640x480 with 1 Axes>"
            ],
            "image/png": "[encoded data removed]"
          },
          "metadata": {}
        }
      ]
    },
    {
      "cell_type": "markdown",
      "source": [
        "STOCK PREDICTION FOR NEXT 30 DAYS"
      ],
      "metadata": {
        "id": "5i-c65RKSE7v"
      }
    },
    {
      "cell_type": "code",
      "source": [
        "len(test_data), x_test.shape"
      ],
      "metadata": {
        "colab": {
          "base_uri": "https://localhost:8080/"
        },
        "id": "VR4MRk9rRoAl",
        "outputId": "6dd93b65-c5a8-4c0c-d156-6a2ac8ce4de6"
      },
      "execution_count": 27,
      "outputs": [
        {
          "output_type": "execute_result",
          "data": {
            "text/plain": [
              "(509, (408, 100, 1))"
            ]
          },
          "metadata": {},
          "execution_count": 27
        }
      ]
    },
    {
      "cell_type": "markdown",
      "source": [],
      "metadata": {
        "id": "bMWvMNToSBXj"
      }
    },
    {
      "cell_type": "code",
      "source": [
        "x_input = test_data[409:].reshape(1,-1)\n",
        "x_input.shape"
      ],
      "metadata": {
        "colab": {
          "base_uri": "https://localhost:8080/"
        },
        "id": "5KUdks87SUxr",
        "outputId": "8c0b73d3-373c-47d4-ade7-d36140c43210"
      },
      "execution_count": 28,
      "outputs": [
        {
          "output_type": "execute_result",
          "data": {
            "text/plain": [
              "(1, 100)"
            ]
          },
          "metadata": {},
          "execution_count": 28
        }
      ]
    },
    {
      "cell_type": "code",
      "source": [
        "temp_input = list(x_input)\n",
        "temp_input = temp_input[0].tolist()"
      ],
      "metadata": {
        "id": "2oAdxH6kSjtj"
      },
      "execution_count": 29,
      "outputs": []
    },
    {
      "cell_type": "code",
      "source": [
        "lst_output=[]\n",
        "n_steps=100\n",
        "nextNumberOfDays = 30\n",
        "i=0\n",
        "\n",
        "while(i<nextNumberOfDays):\n",
        "    if(len(temp_input)>100):\n",
        "        x_input=np.array(temp_input[1:])\n",
        "        print(\"{} day input {}\".format(i,x_input))\n",
        "        x_input=x_input.reshape(1,-1)\n",
        "        x_input = x_input.reshape((1, n_steps, 1))\n",
        "        yhat = model.predict(x_input, verbose=0)\n",
        "        print(\"{} day input {}\".format(i,yhat))\n",
        "        temp_input.extend(yhat[0].tolist())\n",
        "        temp_input=temp_input[1:]\n",
        "        lst_output.extend(yhat.tolist())\n",
        "        i=i+1\n",
        "    else:\n",
        "        x_input = x_input.reshape((1, n_steps,1))\n",
        "        yhat = model.predict(x_input, verbose=0)\n",
        "        print(yhat[0])\n",
        "        temp_input.extend(yhat[0].tolist())\n",
        "        print(len(temp_input))\n",
        "        lst_output.extend(yhat.tolist()) \n",
        "        i=i+1\n",
        "\n",
        "print(lst_output)         "
      ],
      "metadata": {
        "colab": {
          "base_uri": "https://localhost:8080/"
        },
        "id": "3uQqijqPS0we",
        "outputId": "afa26868-f2f8-438f-8c59-9502b89b1bde"
      },
      "execution_count": 35,
      "outputs": [
        {
          "output_type": "stream",
          "name": "stdout",
          "text": [
            "0 day input [0.13848039 0.14011438 0.13888889 0.13541667 0.14011438 0.1380719\n",
            " 0.13071895 0.13071895 0.12867647 0.11846405 0.14644608 0.14808007\n",
            " 0.15910948 0.15992647 0.15788399 0.16441993 0.17892157 0.17933007\n",
            " 0.19260621 0.20812908 0.18974673 0.18055556 0.18239379 0.17708333\n",
            " 0.17810458 0.18055556 0.17810458 0.17851307 0.19607843 0.18913399\n",
            " 0.18954248 0.19403595 0.19444444 0.20200163 0.19771242 0.19934641\n",
            " 0.19873366 0.1997549  0.2128268  0.21568627 0.20445261 0.21772876\n",
            " 0.21098856 0.21425654 0.19750817 0.18811275 0.17851307 0.17381536\n",
            " 0.16033497 0.16564542 0.17116013 0.17422386 0.18035131 0.17401961\n",
            " 0.16278595 0.16973039 0.17810458 0.17034314 0.16830065 0.17279412\n",
            " 0.17544935 0.18382353 0.19138072 0.18913399 0.19097222 0.17238562\n",
            " 0.16830065 0.1693219  0.17177288 0.16156046 0.14971405 0.1503268\n",
            " 0.15196078 0.14726307 0.14501634 0.14603758 0.12479575 0.13112745\n",
            " 0.11397059 0.1190768  0.12377451 0.13562092 0.12908497 0.13459967\n",
            " 0.12806373 0.13031046 0.12724673 0.13521242 0.14522059 0.15257353\n",
            " 0.14848856 0.14338235 0.14562908 0.15236928 0.15400327 0.14971405\n",
            " 0.1621732  0.16319444 0.16584967 0.16671215]\n",
            "0 day input [[0.16844943]]\n",
            "1 day input [0.14011438 0.13888889 0.13541667 0.14011438 0.1380719  0.13071895\n",
            " 0.13071895 0.12867647 0.11846405 0.14644608 0.14808007 0.15910948\n",
            " 0.15992647 0.15788399 0.16441993 0.17892157 0.17933007 0.19260621\n",
            " 0.20812908 0.18974673 0.18055556 0.18239379 0.17708333 0.17810458\n",
            " 0.18055556 0.17810458 0.17851307 0.19607843 0.18913399 0.18954248\n",
            " 0.19403595 0.19444444 0.20200163 0.19771242 0.19934641 0.19873366\n",
            " 0.1997549  0.2128268  0.21568627 0.20445261 0.21772876 0.21098856\n",
            " 0.21425654 0.19750817 0.18811275 0.17851307 0.17381536 0.16033497\n",
            " 0.16564542 0.17116013 0.17422386 0.18035131 0.17401961 0.16278595\n",
            " 0.16973039 0.17810458 0.17034314 0.16830065 0.17279412 0.17544935\n",
            " 0.18382353 0.19138072 0.18913399 0.19097222 0.17238562 0.16830065\n",
            " 0.1693219  0.17177288 0.16156046 0.14971405 0.1503268  0.15196078\n",
            " 0.14726307 0.14501634 0.14603758 0.12479575 0.13112745 0.11397059\n",
            " 0.1190768  0.12377451 0.13562092 0.12908497 0.13459967 0.12806373\n",
            " 0.13031046 0.12724673 0.13521242 0.14522059 0.15257353 0.14848856\n",
            " 0.14338235 0.14562908 0.15236928 0.15400327 0.14971405 0.1621732\n",
            " 0.16319444 0.16584967 0.16671215 0.16844943]\n",
            "1 day input [[0.16936055]]\n",
            "2 day input [0.13888889 0.13541667 0.14011438 0.1380719  0.13071895 0.13071895\n",
            " 0.12867647 0.11846405 0.14644608 0.14808007 0.15910948 0.15992647\n",
            " 0.15788399 0.16441993 0.17892157 0.17933007 0.19260621 0.20812908\n",
            " 0.18974673 0.18055556 0.18239379 0.17708333 0.17810458 0.18055556\n",
            " 0.17810458 0.17851307 0.19607843 0.18913399 0.18954248 0.19403595\n",
            " 0.19444444 0.20200163 0.19771242 0.19934641 0.19873366 0.1997549\n",
            " 0.2128268  0.21568627 0.20445261 0.21772876 0.21098856 0.21425654\n",
            " 0.19750817 0.18811275 0.17851307 0.17381536 0.16033497 0.16564542\n",
            " 0.17116013 0.17422386 0.18035131 0.17401961 0.16278595 0.16973039\n",
            " 0.17810458 0.17034314 0.16830065 0.17279412 0.17544935 0.18382353\n",
            " 0.19138072 0.18913399 0.19097222 0.17238562 0.16830065 0.1693219\n",
            " 0.17177288 0.16156046 0.14971405 0.1503268  0.15196078 0.14726307\n",
            " 0.14501634 0.14603758 0.12479575 0.13112745 0.11397059 0.1190768\n",
            " 0.12377451 0.13562092 0.12908497 0.13459967 0.12806373 0.13031046\n",
            " 0.12724673 0.13521242 0.14522059 0.15257353 0.14848856 0.14338235\n",
            " 0.14562908 0.15236928 0.15400327 0.14971405 0.1621732  0.16319444\n",
            " 0.16584967 0.16671215 0.16844943 0.16936055]\n",
            "2 day input [[0.16996883]]\n",
            "3 day input [0.13541667 0.14011438 0.1380719  0.13071895 0.13071895 0.12867647\n",
            " 0.11846405 0.14644608 0.14808007 0.15910948 0.15992647 0.15788399\n",
            " 0.16441993 0.17892157 0.17933007 0.19260621 0.20812908 0.18974673\n",
            " 0.18055556 0.18239379 0.17708333 0.17810458 0.18055556 0.17810458\n",
            " 0.17851307 0.19607843 0.18913399 0.18954248 0.19403595 0.19444444\n",
            " 0.20200163 0.19771242 0.19934641 0.19873366 0.1997549  0.2128268\n",
            " 0.21568627 0.20445261 0.21772876 0.21098856 0.21425654 0.19750817\n",
            " 0.18811275 0.17851307 0.17381536 0.16033497 0.16564542 0.17116013\n",
            " 0.17422386 0.18035131 0.17401961 0.16278595 0.16973039 0.17810458\n",
            " 0.17034314 0.16830065 0.17279412 0.17544935 0.18382353 0.19138072\n",
            " 0.18913399 0.19097222 0.17238562 0.16830065 0.1693219  0.17177288\n",
            " 0.16156046 0.14971405 0.1503268  0.15196078 0.14726307 0.14501634\n",
            " 0.14603758 0.12479575 0.13112745 0.11397059 0.1190768  0.12377451\n",
            " 0.13562092 0.12908497 0.13459967 0.12806373 0.13031046 0.12724673\n",
            " 0.13521242 0.14522059 0.15257353 0.14848856 0.14338235 0.14562908\n",
            " 0.15236928 0.15400327 0.14971405 0.1621732  0.16319444 0.16584967\n",
            " 0.16671215 0.16844943 0.16936055 0.16996883]\n",
            "3 day input [[0.17048262]]\n",
            "4 day input [0.14011438 0.1380719  0.13071895 0.13071895 0.12867647 0.11846405\n",
            " 0.14644608 0.14808007 0.15910948 0.15992647 0.15788399 0.16441993\n",
            " 0.17892157 0.17933007 0.19260621 0.20812908 0.18974673 0.18055556\n",
            " 0.18239379 0.17708333 0.17810458 0.18055556 0.17810458 0.17851307\n",
            " 0.19607843 0.18913399 0.18954248 0.19403595 0.19444444 0.20200163\n",
            " 0.19771242 0.19934641 0.19873366 0.1997549  0.2128268  0.21568627\n",
            " 0.20445261 0.21772876 0.21098856 0.21425654 0.19750817 0.18811275\n",
            " 0.17851307 0.17381536 0.16033497 0.16564542 0.17116013 0.17422386\n",
            " 0.18035131 0.17401961 0.16278595 0.16973039 0.17810458 0.17034314\n",
            " 0.16830065 0.17279412 0.17544935 0.18382353 0.19138072 0.18913399\n",
            " 0.19097222 0.17238562 0.16830065 0.1693219  0.17177288 0.16156046\n",
            " 0.14971405 0.1503268  0.15196078 0.14726307 0.14501634 0.14603758\n",
            " 0.12479575 0.13112745 0.11397059 0.1190768  0.12377451 0.13562092\n",
            " 0.12908497 0.13459967 0.12806373 0.13031046 0.12724673 0.13521242\n",
            " 0.14522059 0.15257353 0.14848856 0.14338235 0.14562908 0.15236928\n",
            " 0.15400327 0.14971405 0.1621732  0.16319444 0.16584967 0.16671215\n",
            " 0.16844943 0.16936055 0.16996883 0.17048262]\n",
            "4 day input [[0.17098494]]\n",
            "5 day input [0.1380719  0.13071895 0.13071895 0.12867647 0.11846405 0.14644608\n",
            " 0.14808007 0.15910948 0.15992647 0.15788399 0.16441993 0.17892157\n",
            " 0.17933007 0.19260621 0.20812908 0.18974673 0.18055556 0.18239379\n",
            " 0.17708333 0.17810458 0.18055556 0.17810458 0.17851307 0.19607843\n",
            " 0.18913399 0.18954248 0.19403595 0.19444444 0.20200163 0.19771242\n",
            " 0.19934641 0.19873366 0.1997549  0.2128268  0.21568627 0.20445261\n",
            " 0.21772876 0.21098856 0.21425654 0.19750817 0.18811275 0.17851307\n",
            " 0.17381536 0.16033497 0.16564542 0.17116013 0.17422386 0.18035131\n",
            " 0.17401961 0.16278595 0.16973039 0.17810458 0.17034314 0.16830065\n",
            " 0.17279412 0.17544935 0.18382353 0.19138072 0.18913399 0.19097222\n",
            " 0.17238562 0.16830065 0.1693219  0.17177288 0.16156046 0.14971405\n",
            " 0.1503268  0.15196078 0.14726307 0.14501634 0.14603758 0.12479575\n",
            " 0.13112745 0.11397059 0.1190768  0.12377451 0.13562092 0.12908497\n",
            " 0.13459967 0.12806373 0.13031046 0.12724673 0.13521242 0.14522059\n",
            " 0.15257353 0.14848856 0.14338235 0.14562908 0.15236928 0.15400327\n",
            " 0.14971405 0.1621732  0.16319444 0.16584967 0.16671215 0.16844943\n",
            " 0.16936055 0.16996883 0.17048262 0.17098494]\n",
            "5 day input [[0.17150871]]\n",
            "6 day input [0.13071895 0.13071895 0.12867647 0.11846405 0.14644608 0.14808007\n",
            " 0.15910948 0.15992647 0.15788399 0.16441993 0.17892157 0.17933007\n",
            " 0.19260621 0.20812908 0.18974673 0.18055556 0.18239379 0.17708333\n",
            " 0.17810458 0.18055556 0.17810458 0.17851307 0.19607843 0.18913399\n",
            " 0.18954248 0.19403595 0.19444444 0.20200163 0.19771242 0.19934641\n",
            " 0.19873366 0.1997549  0.2128268  0.21568627 0.20445261 0.21772876\n",
            " 0.21098856 0.21425654 0.19750817 0.18811275 0.17851307 0.17381536\n",
            " 0.16033497 0.16564542 0.17116013 0.17422386 0.18035131 0.17401961\n",
            " 0.16278595 0.16973039 0.17810458 0.17034314 0.16830065 0.17279412\n",
            " 0.17544935 0.18382353 0.19138072 0.18913399 0.19097222 0.17238562\n",
            " 0.16830065 0.1693219  0.17177288 0.16156046 0.14971405 0.1503268\n",
            " 0.15196078 0.14726307 0.14501634 0.14603758 0.12479575 0.13112745\n",
            " 0.11397059 0.1190768  0.12377451 0.13562092 0.12908497 0.13459967\n",
            " 0.12806373 0.13031046 0.12724673 0.13521242 0.14522059 0.15257353\n",
            " 0.14848856 0.14338235 0.14562908 0.15236928 0.15400327 0.14971405\n",
            " 0.1621732  0.16319444 0.16584967 0.16671215 0.16844943 0.16936055\n",
            " 0.16996883 0.17048262 0.17098494 0.17150871]\n",
            "6 day input [[0.17206329]]\n",
            "7 day input [0.13071895 0.12867647 0.11846405 0.14644608 0.14808007 0.15910948\n",
            " 0.15992647 0.15788399 0.16441993 0.17892157 0.17933007 0.19260621\n",
            " 0.20812908 0.18974673 0.18055556 0.18239379 0.17708333 0.17810458\n",
            " 0.18055556 0.17810458 0.17851307 0.19607843 0.18913399 0.18954248\n",
            " 0.19403595 0.19444444 0.20200163 0.19771242 0.19934641 0.19873366\n",
            " 0.1997549  0.2128268  0.21568627 0.20445261 0.21772876 0.21098856\n",
            " 0.21425654 0.19750817 0.18811275 0.17851307 0.17381536 0.16033497\n",
            " 0.16564542 0.17116013 0.17422386 0.18035131 0.17401961 0.16278595\n",
            " 0.16973039 0.17810458 0.17034314 0.16830065 0.17279412 0.17544935\n",
            " 0.18382353 0.19138072 0.18913399 0.19097222 0.17238562 0.16830065\n",
            " 0.1693219  0.17177288 0.16156046 0.14971405 0.1503268  0.15196078\n",
            " 0.14726307 0.14501634 0.14603758 0.12479575 0.13112745 0.11397059\n",
            " 0.1190768  0.12377451 0.13562092 0.12908497 0.13459967 0.12806373\n",
            " 0.13031046 0.12724673 0.13521242 0.14522059 0.15257353 0.14848856\n",
            " 0.14338235 0.14562908 0.15236928 0.15400327 0.14971405 0.1621732\n",
            " 0.16319444 0.16584967 0.16671215 0.16844943 0.16936055 0.16996883\n",
            " 0.17048262 0.17098494 0.17150871 0.17206329]\n",
            "7 day input [[0.17264606]]\n",
            "8 day input [0.12867647 0.11846405 0.14644608 0.14808007 0.15910948 0.15992647\n",
            " 0.15788399 0.16441993 0.17892157 0.17933007 0.19260621 0.20812908\n",
            " 0.18974673 0.18055556 0.18239379 0.17708333 0.17810458 0.18055556\n",
            " 0.17810458 0.17851307 0.19607843 0.18913399 0.18954248 0.19403595\n",
            " 0.19444444 0.20200163 0.19771242 0.19934641 0.19873366 0.1997549\n",
            " 0.2128268  0.21568627 0.20445261 0.21772876 0.21098856 0.21425654\n",
            " 0.19750817 0.18811275 0.17851307 0.17381536 0.16033497 0.16564542\n",
            " 0.17116013 0.17422386 0.18035131 0.17401961 0.16278595 0.16973039\n",
            " 0.17810458 0.17034314 0.16830065 0.17279412 0.17544935 0.18382353\n",
            " 0.19138072 0.18913399 0.19097222 0.17238562 0.16830065 0.1693219\n",
            " 0.17177288 0.16156046 0.14971405 0.1503268  0.15196078 0.14726307\n",
            " 0.14501634 0.14603758 0.12479575 0.13112745 0.11397059 0.1190768\n",
            " 0.12377451 0.13562092 0.12908497 0.13459967 0.12806373 0.13031046\n",
            " 0.12724673 0.13521242 0.14522059 0.15257353 0.14848856 0.14338235\n",
            " 0.14562908 0.15236928 0.15400327 0.14971405 0.1621732  0.16319444\n",
            " 0.16584967 0.16671215 0.16844943 0.16936055 0.16996883 0.17048262\n",
            " 0.17098494 0.17150871 0.17206329 0.17264606]\n",
            "8 day input [[0.17324895]]\n",
            "9 day input [0.11846405 0.14644608 0.14808007 0.15910948 0.15992647 0.15788399\n",
            " 0.16441993 0.17892157 0.17933007 0.19260621 0.20812908 0.18974673\n",
            " 0.18055556 0.18239379 0.17708333 0.17810458 0.18055556 0.17810458\n",
            " 0.17851307 0.19607843 0.18913399 0.18954248 0.19403595 0.19444444\n",
            " 0.20200163 0.19771242 0.19934641 0.19873366 0.1997549  0.2128268\n",
            " 0.21568627 0.20445261 0.21772876 0.21098856 0.21425654 0.19750817\n",
            " 0.18811275 0.17851307 0.17381536 0.16033497 0.16564542 0.17116013\n",
            " 0.17422386 0.18035131 0.17401961 0.16278595 0.16973039 0.17810458\n",
            " 0.17034314 0.16830065 0.17279412 0.17544935 0.18382353 0.19138072\n",
            " 0.18913399 0.19097222 0.17238562 0.16830065 0.1693219  0.17177288\n",
            " 0.16156046 0.14971405 0.1503268  0.15196078 0.14726307 0.14501634\n",
            " 0.14603758 0.12479575 0.13112745 0.11397059 0.1190768  0.12377451\n",
            " 0.13562092 0.12908497 0.13459967 0.12806373 0.13031046 0.12724673\n",
            " 0.13521242 0.14522059 0.15257353 0.14848856 0.14338235 0.14562908\n",
            " 0.15236928 0.15400327 0.14971405 0.1621732  0.16319444 0.16584967\n",
            " 0.16671215 0.16844943 0.16936055 0.16996883 0.17048262 0.17098494\n",
            " 0.17150871 0.17206329 0.17264606 0.17324895]\n",
            "9 day input [[0.17386262]]\n",
            "10 day input [0.14644608 0.14808007 0.15910948 0.15992647 0.15788399 0.16441993\n",
            " 0.17892157 0.17933007 0.19260621 0.20812908 0.18974673 0.18055556\n",
            " 0.18239379 0.17708333 0.17810458 0.18055556 0.17810458 0.17851307\n",
            " 0.19607843 0.18913399 0.18954248 0.19403595 0.19444444 0.20200163\n",
            " 0.19771242 0.19934641 0.19873366 0.1997549  0.2128268  0.21568627\n",
            " 0.20445261 0.21772876 0.21098856 0.21425654 0.19750817 0.18811275\n",
            " 0.17851307 0.17381536 0.16033497 0.16564542 0.17116013 0.17422386\n",
            " 0.18035131 0.17401961 0.16278595 0.16973039 0.17810458 0.17034314\n",
            " 0.16830065 0.17279412 0.17544935 0.18382353 0.19138072 0.18913399\n",
            " 0.19097222 0.17238562 0.16830065 0.1693219  0.17177288 0.16156046\n",
            " 0.14971405 0.1503268  0.15196078 0.14726307 0.14501634 0.14603758\n",
            " 0.12479575 0.13112745 0.11397059 0.1190768  0.12377451 0.13562092\n",
            " 0.12908497 0.13459967 0.12806373 0.13031046 0.12724673 0.13521242\n",
            " 0.14522059 0.15257353 0.14848856 0.14338235 0.14562908 0.15236928\n",
            " 0.15400327 0.14971405 0.1621732  0.16319444 0.16584967 0.16671215\n",
            " 0.16844943 0.16936055 0.16996883 0.17048262 0.17098494 0.17150871\n",
            " 0.17206329 0.17264606 0.17324895 0.17386262]\n",
            "10 day input [[0.1744788]]\n",
            "11 day input [0.14808007 0.15910948 0.15992647 0.15788399 0.16441993 0.17892157\n",
            " 0.17933007 0.19260621 0.20812908 0.18974673 0.18055556 0.18239379\n",
            " 0.17708333 0.17810458 0.18055556 0.17810458 0.17851307 0.19607843\n",
            " 0.18913399 0.18954248 0.19403595 0.19444444 0.20200163 0.19771242\n",
            " 0.19934641 0.19873366 0.1997549  0.2128268  0.21568627 0.20445261\n",
            " 0.21772876 0.21098856 0.21425654 0.19750817 0.18811275 0.17851307\n",
            " 0.17381536 0.16033497 0.16564542 0.17116013 0.17422386 0.18035131\n",
            " 0.17401961 0.16278595 0.16973039 0.17810458 0.17034314 0.16830065\n",
            " 0.17279412 0.17544935 0.18382353 0.19138072 0.18913399 0.19097222\n",
            " 0.17238562 0.16830065 0.1693219  0.17177288 0.16156046 0.14971405\n",
            " 0.1503268  0.15196078 0.14726307 0.14501634 0.14603758 0.12479575\n",
            " 0.13112745 0.11397059 0.1190768  0.12377451 0.13562092 0.12908497\n",
            " 0.13459967 0.12806373 0.13031046 0.12724673 0.13521242 0.14522059\n",
            " 0.15257353 0.14848856 0.14338235 0.14562908 0.15236928 0.15400327\n",
            " 0.14971405 0.1621732  0.16319444 0.16584967 0.16671215 0.16844943\n",
            " 0.16936055 0.16996883 0.17048262 0.17098494 0.17150871 0.17206329\n",
            " 0.17264606 0.17324895 0.17386262 0.1744788 ]\n",
            "11 day input [[0.17509122]]\n",
            "12 day input [0.15910948 0.15992647 0.15788399 0.16441993 0.17892157 0.17933007\n",
            " 0.19260621 0.20812908 0.18974673 0.18055556 0.18239379 0.17708333\n",
            " 0.17810458 0.18055556 0.17810458 0.17851307 0.19607843 0.18913399\n",
            " 0.18954248 0.19403595 0.19444444 0.20200163 0.19771242 0.19934641\n",
            " 0.19873366 0.1997549  0.2128268  0.21568627 0.20445261 0.21772876\n",
            " 0.21098856 0.21425654 0.19750817 0.18811275 0.17851307 0.17381536\n",
            " 0.16033497 0.16564542 0.17116013 0.17422386 0.18035131 0.17401961\n",
            " 0.16278595 0.16973039 0.17810458 0.17034314 0.16830065 0.17279412\n",
            " 0.17544935 0.18382353 0.19138072 0.18913399 0.19097222 0.17238562\n",
            " 0.16830065 0.1693219  0.17177288 0.16156046 0.14971405 0.1503268\n",
            " 0.15196078 0.14726307 0.14501634 0.14603758 0.12479575 0.13112745\n",
            " 0.11397059 0.1190768  0.12377451 0.13562092 0.12908497 0.13459967\n",
            " 0.12806373 0.13031046 0.12724673 0.13521242 0.14522059 0.15257353\n",
            " 0.14848856 0.14338235 0.14562908 0.15236928 0.15400327 0.14971405\n",
            " 0.1621732  0.16319444 0.16584967 0.16671215 0.16844943 0.16936055\n",
            " 0.16996883 0.17048262 0.17098494 0.17150871 0.17206329 0.17264606\n",
            " 0.17324895 0.17386262 0.1744788  0.17509122]\n",
            "12 day input [[0.17569579]]\n",
            "13 day input [0.15992647 0.15788399 0.16441993 0.17892157 0.17933007 0.19260621\n",
            " 0.20812908 0.18974673 0.18055556 0.18239379 0.17708333 0.17810458\n",
            " 0.18055556 0.17810458 0.17851307 0.19607843 0.18913399 0.18954248\n",
            " 0.19403595 0.19444444 0.20200163 0.19771242 0.19934641 0.19873366\n",
            " 0.1997549  0.2128268  0.21568627 0.20445261 0.21772876 0.21098856\n",
            " 0.21425654 0.19750817 0.18811275 0.17851307 0.17381536 0.16033497\n",
            " 0.16564542 0.17116013 0.17422386 0.18035131 0.17401961 0.16278595\n",
            " 0.16973039 0.17810458 0.17034314 0.16830065 0.17279412 0.17544935\n",
            " 0.18382353 0.19138072 0.18913399 0.19097222 0.17238562 0.16830065\n",
            " 0.1693219  0.17177288 0.16156046 0.14971405 0.1503268  0.15196078\n",
            " 0.14726307 0.14501634 0.14603758 0.12479575 0.13112745 0.11397059\n",
            " 0.1190768  0.12377451 0.13562092 0.12908497 0.13459967 0.12806373\n",
            " 0.13031046 0.12724673 0.13521242 0.14522059 0.15257353 0.14848856\n",
            " 0.14338235 0.14562908 0.15236928 0.15400327 0.14971405 0.1621732\n",
            " 0.16319444 0.16584967 0.16671215 0.16844943 0.16936055 0.16996883\n",
            " 0.17048262 0.17098494 0.17150871 0.17206329 0.17264606 0.17324895\n",
            " 0.17386262 0.1744788  0.17509122 0.17569579]\n",
            "13 day input [[0.1762906]]\n",
            "14 day input [0.15788399 0.16441993 0.17892157 0.17933007 0.19260621 0.20812908\n",
            " 0.18974673 0.18055556 0.18239379 0.17708333 0.17810458 0.18055556\n",
            " 0.17810458 0.17851307 0.19607843 0.18913399 0.18954248 0.19403595\n",
            " 0.19444444 0.20200163 0.19771242 0.19934641 0.19873366 0.1997549\n",
            " 0.2128268  0.21568627 0.20445261 0.21772876 0.21098856 0.21425654\n",
            " 0.19750817 0.18811275 0.17851307 0.17381536 0.16033497 0.16564542\n",
            " 0.17116013 0.17422386 0.18035131 0.17401961 0.16278595 0.16973039\n",
            " 0.17810458 0.17034314 0.16830065 0.17279412 0.17544935 0.18382353\n",
            " 0.19138072 0.18913399 0.19097222 0.17238562 0.16830065 0.1693219\n",
            " 0.17177288 0.16156046 0.14971405 0.1503268  0.15196078 0.14726307\n",
            " 0.14501634 0.14603758 0.12479575 0.13112745 0.11397059 0.1190768\n",
            " 0.12377451 0.13562092 0.12908497 0.13459967 0.12806373 0.13031046\n",
            " 0.12724673 0.13521242 0.14522059 0.15257353 0.14848856 0.14338235\n",
            " 0.14562908 0.15236928 0.15400327 0.14971405 0.1621732  0.16319444\n",
            " 0.16584967 0.16671215 0.16844943 0.16936055 0.16996883 0.17048262\n",
            " 0.17098494 0.17150871 0.17206329 0.17264606 0.17324895 0.17386262\n",
            " 0.1744788  0.17509122 0.17569579 0.1762906 ]\n",
            "14 day input [[0.17687504]]\n",
            "15 day input [0.16441993 0.17892157 0.17933007 0.19260621 0.20812908 0.18974673\n",
            " 0.18055556 0.18239379 0.17708333 0.17810458 0.18055556 0.17810458\n",
            " 0.17851307 0.19607843 0.18913399 0.18954248 0.19403595 0.19444444\n",
            " 0.20200163 0.19771242 0.19934641 0.19873366 0.1997549  0.2128268\n",
            " 0.21568627 0.20445261 0.21772876 0.21098856 0.21425654 0.19750817\n",
            " 0.18811275 0.17851307 0.17381536 0.16033497 0.16564542 0.17116013\n",
            " 0.17422386 0.18035131 0.17401961 0.16278595 0.16973039 0.17810458\n",
            " 0.17034314 0.16830065 0.17279412 0.17544935 0.18382353 0.19138072\n",
            " 0.18913399 0.19097222 0.17238562 0.16830065 0.1693219  0.17177288\n",
            " 0.16156046 0.14971405 0.1503268  0.15196078 0.14726307 0.14501634\n",
            " 0.14603758 0.12479575 0.13112745 0.11397059 0.1190768  0.12377451\n",
            " 0.13562092 0.12908497 0.13459967 0.12806373 0.13031046 0.12724673\n",
            " 0.13521242 0.14522059 0.15257353 0.14848856 0.14338235 0.14562908\n",
            " 0.15236928 0.15400327 0.14971405 0.1621732  0.16319444 0.16584967\n",
            " 0.16671215 0.16844943 0.16936055 0.16996883 0.17048262 0.17098494\n",
            " 0.17150871 0.17206329 0.17264606 0.17324895 0.17386262 0.1744788\n",
            " 0.17509122 0.17569579 0.1762906  0.17687504]\n",
            "15 day input [[0.1774496]]\n",
            "16 day input [0.17892157 0.17933007 0.19260621 0.20812908 0.18974673 0.18055556\n",
            " 0.18239379 0.17708333 0.17810458 0.18055556 0.17810458 0.17851307\n",
            " 0.19607843 0.18913399 0.18954248 0.19403595 0.19444444 0.20200163\n",
            " 0.19771242 0.19934641 0.19873366 0.1997549  0.2128268  0.21568627\n",
            " 0.20445261 0.21772876 0.21098856 0.21425654 0.19750817 0.18811275\n",
            " 0.17851307 0.17381536 0.16033497 0.16564542 0.17116013 0.17422386\n",
            " 0.18035131 0.17401961 0.16278595 0.16973039 0.17810458 0.17034314\n",
            " 0.16830065 0.17279412 0.17544935 0.18382353 0.19138072 0.18913399\n",
            " 0.19097222 0.17238562 0.16830065 0.1693219  0.17177288 0.16156046\n",
            " 0.14971405 0.1503268  0.15196078 0.14726307 0.14501634 0.14603758\n",
            " 0.12479575 0.13112745 0.11397059 0.1190768  0.12377451 0.13562092\n",
            " 0.12908497 0.13459967 0.12806373 0.13031046 0.12724673 0.13521242\n",
            " 0.14522059 0.15257353 0.14848856 0.14338235 0.14562908 0.15236928\n",
            " 0.15400327 0.14971405 0.1621732  0.16319444 0.16584967 0.16671215\n",
            " 0.16844943 0.16936055 0.16996883 0.17048262 0.17098494 0.17150871\n",
            " 0.17206329 0.17264606 0.17324895 0.17386262 0.1744788  0.17509122\n",
            " 0.17569579 0.1762906  0.17687504 0.1774496 ]\n",
            "16 day input [[0.17801525]]\n",
            "17 day input [0.17933007 0.19260621 0.20812908 0.18974673 0.18055556 0.18239379\n",
            " 0.17708333 0.17810458 0.18055556 0.17810458 0.17851307 0.19607843\n",
            " 0.18913399 0.18954248 0.19403595 0.19444444 0.20200163 0.19771242\n",
            " 0.19934641 0.19873366 0.1997549  0.2128268  0.21568627 0.20445261\n",
            " 0.21772876 0.21098856 0.21425654 0.19750817 0.18811275 0.17851307\n",
            " 0.17381536 0.16033497 0.16564542 0.17116013 0.17422386 0.18035131\n",
            " 0.17401961 0.16278595 0.16973039 0.17810458 0.17034314 0.16830065\n",
            " 0.17279412 0.17544935 0.18382353 0.19138072 0.18913399 0.19097222\n",
            " 0.17238562 0.16830065 0.1693219  0.17177288 0.16156046 0.14971405\n",
            " 0.1503268  0.15196078 0.14726307 0.14501634 0.14603758 0.12479575\n",
            " 0.13112745 0.11397059 0.1190768  0.12377451 0.13562092 0.12908497\n",
            " 0.13459967 0.12806373 0.13031046 0.12724673 0.13521242 0.14522059\n",
            " 0.15257353 0.14848856 0.14338235 0.14562908 0.15236928 0.15400327\n",
            " 0.14971405 0.1621732  0.16319444 0.16584967 0.16671215 0.16844943\n",
            " 0.16936055 0.16996883 0.17048262 0.17098494 0.17150871 0.17206329\n",
            " 0.17264606 0.17324895 0.17386262 0.1744788  0.17509122 0.17569579\n",
            " 0.1762906  0.17687504 0.1774496  0.17801525]\n",
            "17 day input [[0.17857309]]\n",
            "18 day input [0.19260621 0.20812908 0.18974673 0.18055556 0.18239379 0.17708333\n",
            " 0.17810458 0.18055556 0.17810458 0.17851307 0.19607843 0.18913399\n",
            " 0.18954248 0.19403595 0.19444444 0.20200163 0.19771242 0.19934641\n",
            " 0.19873366 0.1997549  0.2128268  0.21568627 0.20445261 0.21772876\n",
            " 0.21098856 0.21425654 0.19750817 0.18811275 0.17851307 0.17381536\n",
            " 0.16033497 0.16564542 0.17116013 0.17422386 0.18035131 0.17401961\n",
            " 0.16278595 0.16973039 0.17810458 0.17034314 0.16830065 0.17279412\n",
            " 0.17544935 0.18382353 0.19138072 0.18913399 0.19097222 0.17238562\n",
            " 0.16830065 0.1693219  0.17177288 0.16156046 0.14971405 0.1503268\n",
            " 0.15196078 0.14726307 0.14501634 0.14603758 0.12479575 0.13112745\n",
            " 0.11397059 0.1190768  0.12377451 0.13562092 0.12908497 0.13459967\n",
            " 0.12806373 0.13031046 0.12724673 0.13521242 0.14522059 0.15257353\n",
            " 0.14848856 0.14338235 0.14562908 0.15236928 0.15400327 0.14971405\n",
            " 0.1621732  0.16319444 0.16584967 0.16671215 0.16844943 0.16936055\n",
            " 0.16996883 0.17048262 0.17098494 0.17150871 0.17206329 0.17264606\n",
            " 0.17324895 0.17386262 0.1744788  0.17509122 0.17569579 0.1762906\n",
            " 0.17687504 0.1774496  0.17801525 0.17857309]\n",
            "18 day input [[0.17912416]]\n",
            "19 day input [0.20812908 0.18974673 0.18055556 0.18239379 0.17708333 0.17810458\n",
            " 0.18055556 0.17810458 0.17851307 0.19607843 0.18913399 0.18954248\n",
            " 0.19403595 0.19444444 0.20200163 0.19771242 0.19934641 0.19873366\n",
            " 0.1997549  0.2128268  0.21568627 0.20445261 0.21772876 0.21098856\n",
            " 0.21425654 0.19750817 0.18811275 0.17851307 0.17381536 0.16033497\n",
            " 0.16564542 0.17116013 0.17422386 0.18035131 0.17401961 0.16278595\n",
            " 0.16973039 0.17810458 0.17034314 0.16830065 0.17279412 0.17544935\n",
            " 0.18382353 0.19138072 0.18913399 0.19097222 0.17238562 0.16830065\n",
            " 0.1693219  0.17177288 0.16156046 0.14971405 0.1503268  0.15196078\n",
            " 0.14726307 0.14501634 0.14603758 0.12479575 0.13112745 0.11397059\n",
            " 0.1190768  0.12377451 0.13562092 0.12908497 0.13459967 0.12806373\n",
            " 0.13031046 0.12724673 0.13521242 0.14522059 0.15257353 0.14848856\n",
            " 0.14338235 0.14562908 0.15236928 0.15400327 0.14971405 0.1621732\n",
            " 0.16319444 0.16584967 0.16671215 0.16844943 0.16936055 0.16996883\n",
            " 0.17048262 0.17098494 0.17150871 0.17206329 0.17264606 0.17324895\n",
            " 0.17386262 0.1744788  0.17509122 0.17569579 0.1762906  0.17687504\n",
            " 0.1774496  0.17801525 0.17857309 0.17912416]\n",
            "19 day input [[0.17966935]]\n",
            "20 day input [0.18974673 0.18055556 0.18239379 0.17708333 0.17810458 0.18055556\n",
            " 0.17810458 0.17851307 0.19607843 0.18913399 0.18954248 0.19403595\n",
            " 0.19444444 0.20200163 0.19771242 0.19934641 0.19873366 0.1997549\n",
            " 0.2128268  0.21568627 0.20445261 0.21772876 0.21098856 0.21425654\n",
            " 0.19750817 0.18811275 0.17851307 0.17381536 0.16033497 0.16564542\n",
            " 0.17116013 0.17422386 0.18035131 0.17401961 0.16278595 0.16973039\n",
            " 0.17810458 0.17034314 0.16830065 0.17279412 0.17544935 0.18382353\n",
            " 0.19138072 0.18913399 0.19097222 0.17238562 0.16830065 0.1693219\n",
            " 0.17177288 0.16156046 0.14971405 0.1503268  0.15196078 0.14726307\n",
            " 0.14501634 0.14603758 0.12479575 0.13112745 0.11397059 0.1190768\n",
            " 0.12377451 0.13562092 0.12908497 0.13459967 0.12806373 0.13031046\n",
            " 0.12724673 0.13521242 0.14522059 0.15257353 0.14848856 0.14338235\n",
            " 0.14562908 0.15236928 0.15400327 0.14971405 0.1621732  0.16319444\n",
            " 0.16584967 0.16671215 0.16844943 0.16936055 0.16996883 0.17048262\n",
            " 0.17098494 0.17150871 0.17206329 0.17264606 0.17324895 0.17386262\n",
            " 0.1744788  0.17509122 0.17569579 0.1762906  0.17687504 0.1774496\n",
            " 0.17801525 0.17857309 0.17912416 0.17966935]\n",
            "20 day input [[0.18020913]]\n",
            "21 day input [0.18055556 0.18239379 0.17708333 0.17810458 0.18055556 0.17810458\n",
            " 0.17851307 0.19607843 0.18913399 0.18954248 0.19403595 0.19444444\n",
            " 0.20200163 0.19771242 0.19934641 0.19873366 0.1997549  0.2128268\n",
            " 0.21568627 0.20445261 0.21772876 0.21098856 0.21425654 0.19750817\n",
            " 0.18811275 0.17851307 0.17381536 0.16033497 0.16564542 0.17116013\n",
            " 0.17422386 0.18035131 0.17401961 0.16278595 0.16973039 0.17810458\n",
            " 0.17034314 0.16830065 0.17279412 0.17544935 0.18382353 0.19138072\n",
            " 0.18913399 0.19097222 0.17238562 0.16830065 0.1693219  0.17177288\n",
            " 0.16156046 0.14971405 0.1503268  0.15196078 0.14726307 0.14501634\n",
            " 0.14603758 0.12479575 0.13112745 0.11397059 0.1190768  0.12377451\n",
            " 0.13562092 0.12908497 0.13459967 0.12806373 0.13031046 0.12724673\n",
            " 0.13521242 0.14522059 0.15257353 0.14848856 0.14338235 0.14562908\n",
            " 0.15236928 0.15400327 0.14971405 0.1621732  0.16319444 0.16584967\n",
            " 0.16671215 0.16844943 0.16936055 0.16996883 0.17048262 0.17098494\n",
            " 0.17150871 0.17206329 0.17264606 0.17324895 0.17386262 0.1744788\n",
            " 0.17509122 0.17569579 0.1762906  0.17687504 0.1774496  0.17801525\n",
            " 0.17857309 0.17912416 0.17966935 0.18020913]\n",
            "21 day input [[0.18074377]]\n",
            "22 day input [0.18239379 0.17708333 0.17810458 0.18055556 0.17810458 0.17851307\n",
            " 0.19607843 0.18913399 0.18954248 0.19403595 0.19444444 0.20200163\n",
            " 0.19771242 0.19934641 0.19873366 0.1997549  0.2128268  0.21568627\n",
            " 0.20445261 0.21772876 0.21098856 0.21425654 0.19750817 0.18811275\n",
            " 0.17851307 0.17381536 0.16033497 0.16564542 0.17116013 0.17422386\n",
            " 0.18035131 0.17401961 0.16278595 0.16973039 0.17810458 0.17034314\n",
            " 0.16830065 0.17279412 0.17544935 0.18382353 0.19138072 0.18913399\n",
            " 0.19097222 0.17238562 0.16830065 0.1693219  0.17177288 0.16156046\n",
            " 0.14971405 0.1503268  0.15196078 0.14726307 0.14501634 0.14603758\n",
            " 0.12479575 0.13112745 0.11397059 0.1190768  0.12377451 0.13562092\n",
            " 0.12908497 0.13459967 0.12806373 0.13031046 0.12724673 0.13521242\n",
            " 0.14522059 0.15257353 0.14848856 0.14338235 0.14562908 0.15236928\n",
            " 0.15400327 0.14971405 0.1621732  0.16319444 0.16584967 0.16671215\n",
            " 0.16844943 0.16936055 0.16996883 0.17048262 0.17098494 0.17150871\n",
            " 0.17206329 0.17264606 0.17324895 0.17386262 0.1744788  0.17509122\n",
            " 0.17569579 0.1762906  0.17687504 0.1774496  0.17801525 0.17857309\n",
            " 0.17912416 0.17966935 0.18020913 0.18074377]\n",
            "22 day input [[0.1812734]]\n",
            "23 day input [0.17708333 0.17810458 0.18055556 0.17810458 0.17851307 0.19607843\n",
            " 0.18913399 0.18954248 0.19403595 0.19444444 0.20200163 0.19771242\n",
            " 0.19934641 0.19873366 0.1997549  0.2128268  0.21568627 0.20445261\n",
            " 0.21772876 0.21098856 0.21425654 0.19750817 0.18811275 0.17851307\n",
            " 0.17381536 0.16033497 0.16564542 0.17116013 0.17422386 0.18035131\n",
            " 0.17401961 0.16278595 0.16973039 0.17810458 0.17034314 0.16830065\n",
            " 0.17279412 0.17544935 0.18382353 0.19138072 0.18913399 0.19097222\n",
            " 0.17238562 0.16830065 0.1693219  0.17177288 0.16156046 0.14971405\n",
            " 0.1503268  0.15196078 0.14726307 0.14501634 0.14603758 0.12479575\n",
            " 0.13112745 0.11397059 0.1190768  0.12377451 0.13562092 0.12908497\n",
            " 0.13459967 0.12806373 0.13031046 0.12724673 0.13521242 0.14522059\n",
            " 0.15257353 0.14848856 0.14338235 0.14562908 0.15236928 0.15400327\n",
            " 0.14971405 0.1621732  0.16319444 0.16584967 0.16671215 0.16844943\n",
            " 0.16936055 0.16996883 0.17048262 0.17098494 0.17150871 0.17206329\n",
            " 0.17264606 0.17324895 0.17386262 0.1744788  0.17509122 0.17569579\n",
            " 0.1762906  0.17687504 0.1774496  0.17801525 0.17857309 0.17912416\n",
            " 0.17966935 0.18020913 0.18074377 0.1812734 ]\n",
            "23 day input [[0.1817977]]\n",
            "24 day input [0.17810458 0.18055556 0.17810458 0.17851307 0.19607843 0.18913399\n",
            " 0.18954248 0.19403595 0.19444444 0.20200163 0.19771242 0.19934641\n",
            " 0.19873366 0.1997549  0.2128268  0.21568627 0.20445261 0.21772876\n",
            " 0.21098856 0.21425654 0.19750817 0.18811275 0.17851307 0.17381536\n",
            " 0.16033497 0.16564542 0.17116013 0.17422386 0.18035131 0.17401961\n",
            " 0.16278595 0.16973039 0.17810458 0.17034314 0.16830065 0.17279412\n",
            " 0.17544935 0.18382353 0.19138072 0.18913399 0.19097222 0.17238562\n",
            " 0.16830065 0.1693219  0.17177288 0.16156046 0.14971405 0.1503268\n",
            " 0.15196078 0.14726307 0.14501634 0.14603758 0.12479575 0.13112745\n",
            " 0.11397059 0.1190768  0.12377451 0.13562092 0.12908497 0.13459967\n",
            " 0.12806373 0.13031046 0.12724673 0.13521242 0.14522059 0.15257353\n",
            " 0.14848856 0.14338235 0.14562908 0.15236928 0.15400327 0.14971405\n",
            " 0.1621732  0.16319444 0.16584967 0.16671215 0.16844943 0.16936055\n",
            " 0.16996883 0.17048262 0.17098494 0.17150871 0.17206329 0.17264606\n",
            " 0.17324895 0.17386262 0.1744788  0.17509122 0.17569579 0.1762906\n",
            " 0.17687504 0.1774496  0.17801525 0.17857309 0.17912416 0.17966935\n",
            " 0.18020913 0.18074377 0.1812734  0.1817977 ]\n",
            "24 day input [[0.1823165]]\n",
            "25 day input [0.18055556 0.17810458 0.17851307 0.19607843 0.18913399 0.18954248\n",
            " 0.19403595 0.19444444 0.20200163 0.19771242 0.19934641 0.19873366\n",
            " 0.1997549  0.2128268  0.21568627 0.20445261 0.21772876 0.21098856\n",
            " 0.21425654 0.19750817 0.18811275 0.17851307 0.17381536 0.16033497\n",
            " 0.16564542 0.17116013 0.17422386 0.18035131 0.17401961 0.16278595\n",
            " 0.16973039 0.17810458 0.17034314 0.16830065 0.17279412 0.17544935\n",
            " 0.18382353 0.19138072 0.18913399 0.19097222 0.17238562 0.16830065\n",
            " 0.1693219  0.17177288 0.16156046 0.14971405 0.1503268  0.15196078\n",
            " 0.14726307 0.14501634 0.14603758 0.12479575 0.13112745 0.11397059\n",
            " 0.1190768  0.12377451 0.13562092 0.12908497 0.13459967 0.12806373\n",
            " 0.13031046 0.12724673 0.13521242 0.14522059 0.15257353 0.14848856\n",
            " 0.14338235 0.14562908 0.15236928 0.15400327 0.14971405 0.1621732\n",
            " 0.16319444 0.16584967 0.16671215 0.16844943 0.16936055 0.16996883\n",
            " 0.17048262 0.17098494 0.17150871 0.17206329 0.17264606 0.17324895\n",
            " 0.17386262 0.1744788  0.17509122 0.17569579 0.1762906  0.17687504\n",
            " 0.1774496  0.17801525 0.17857309 0.17912416 0.17966935 0.18020913\n",
            " 0.18074377 0.1812734  0.1817977  0.1823165 ]\n",
            "25 day input [[0.18282935]]\n",
            "26 day input [0.17810458 0.17851307 0.19607843 0.18913399 0.18954248 0.19403595\n",
            " 0.19444444 0.20200163 0.19771242 0.19934641 0.19873366 0.1997549\n",
            " 0.2128268  0.21568627 0.20445261 0.21772876 0.21098856 0.21425654\n",
            " 0.19750817 0.18811275 0.17851307 0.17381536 0.16033497 0.16564542\n",
            " 0.17116013 0.17422386 0.18035131 0.17401961 0.16278595 0.16973039\n",
            " 0.17810458 0.17034314 0.16830065 0.17279412 0.17544935 0.18382353\n",
            " 0.19138072 0.18913399 0.19097222 0.17238562 0.16830065 0.1693219\n",
            " 0.17177288 0.16156046 0.14971405 0.1503268  0.15196078 0.14726307\n",
            " 0.14501634 0.14603758 0.12479575 0.13112745 0.11397059 0.1190768\n",
            " 0.12377451 0.13562092 0.12908497 0.13459967 0.12806373 0.13031046\n",
            " 0.12724673 0.13521242 0.14522059 0.15257353 0.14848856 0.14338235\n",
            " 0.14562908 0.15236928 0.15400327 0.14971405 0.1621732  0.16319444\n",
            " 0.16584967 0.16671215 0.16844943 0.16936055 0.16996883 0.17048262\n",
            " 0.17098494 0.17150871 0.17206329 0.17264606 0.17324895 0.17386262\n",
            " 0.1744788  0.17509122 0.17569579 0.1762906  0.17687504 0.1774496\n",
            " 0.17801525 0.17857309 0.17912416 0.17966935 0.18020913 0.18074377\n",
            " 0.1812734  0.1817977  0.1823165  0.18282935]\n",
            "26 day input [[0.18333592]]\n",
            "27 day input [0.17851307 0.19607843 0.18913399 0.18954248 0.19403595 0.19444444\n",
            " 0.20200163 0.19771242 0.19934641 0.19873366 0.1997549  0.2128268\n",
            " 0.21568627 0.20445261 0.21772876 0.21098856 0.21425654 0.19750817\n",
            " 0.18811275 0.17851307 0.17381536 0.16033497 0.16564542 0.17116013\n",
            " 0.17422386 0.18035131 0.17401961 0.16278595 0.16973039 0.17810458\n",
            " 0.17034314 0.16830065 0.17279412 0.17544935 0.18382353 0.19138072\n",
            " 0.18913399 0.19097222 0.17238562 0.16830065 0.1693219  0.17177288\n",
            " 0.16156046 0.14971405 0.1503268  0.15196078 0.14726307 0.14501634\n",
            " 0.14603758 0.12479575 0.13112745 0.11397059 0.1190768  0.12377451\n",
            " 0.13562092 0.12908497 0.13459967 0.12806373 0.13031046 0.12724673\n",
            " 0.13521242 0.14522059 0.15257353 0.14848856 0.14338235 0.14562908\n",
            " 0.15236928 0.15400327 0.14971405 0.1621732  0.16319444 0.16584967\n",
            " 0.16671215 0.16844943 0.16936055 0.16996883 0.17048262 0.17098494\n",
            " 0.17150871 0.17206329 0.17264606 0.17324895 0.17386262 0.1744788\n",
            " 0.17509122 0.17569579 0.1762906  0.17687504 0.1774496  0.17801525\n",
            " 0.17857309 0.17912416 0.17966935 0.18020913 0.18074377 0.1812734\n",
            " 0.1817977  0.1823165  0.18282935 0.18333592]\n",
            "27 day input [[0.18383579]]\n",
            "28 day input [0.19607843 0.18913399 0.18954248 0.19403595 0.19444444 0.20200163\n",
            " 0.19771242 0.19934641 0.19873366 0.1997549  0.2128268  0.21568627\n",
            " 0.20445261 0.21772876 0.21098856 0.21425654 0.19750817 0.18811275\n",
            " 0.17851307 0.17381536 0.16033497 0.16564542 0.17116013 0.17422386\n",
            " 0.18035131 0.17401961 0.16278595 0.16973039 0.17810458 0.17034314\n",
            " 0.16830065 0.17279412 0.17544935 0.18382353 0.19138072 0.18913399\n",
            " 0.19097222 0.17238562 0.16830065 0.1693219  0.17177288 0.16156046\n",
            " 0.14971405 0.1503268  0.15196078 0.14726307 0.14501634 0.14603758\n",
            " 0.12479575 0.13112745 0.11397059 0.1190768  0.12377451 0.13562092\n",
            " 0.12908497 0.13459967 0.12806373 0.13031046 0.12724673 0.13521242\n",
            " 0.14522059 0.15257353 0.14848856 0.14338235 0.14562908 0.15236928\n",
            " 0.15400327 0.14971405 0.1621732  0.16319444 0.16584967 0.16671215\n",
            " 0.16844943 0.16936055 0.16996883 0.17048262 0.17098494 0.17150871\n",
            " 0.17206329 0.17264606 0.17324895 0.17386262 0.1744788  0.17509122\n",
            " 0.17569579 0.1762906  0.17687504 0.1774496  0.17801525 0.17857309\n",
            " 0.17912416 0.17966935 0.18020913 0.18074377 0.1812734  0.1817977\n",
            " 0.1823165  0.18282935 0.18333592 0.18383579]\n",
            "28 day input [[0.18432862]]\n",
            "29 day input [0.18913399 0.18954248 0.19403595 0.19444444 0.20200163 0.19771242\n",
            " 0.19934641 0.19873366 0.1997549  0.2128268  0.21568627 0.20445261\n",
            " 0.21772876 0.21098856 0.21425654 0.19750817 0.18811275 0.17851307\n",
            " 0.17381536 0.16033497 0.16564542 0.17116013 0.17422386 0.18035131\n",
            " 0.17401961 0.16278595 0.16973039 0.17810458 0.17034314 0.16830065\n",
            " 0.17279412 0.17544935 0.18382353 0.19138072 0.18913399 0.19097222\n",
            " 0.17238562 0.16830065 0.1693219  0.17177288 0.16156046 0.14971405\n",
            " 0.1503268  0.15196078 0.14726307 0.14501634 0.14603758 0.12479575\n",
            " 0.13112745 0.11397059 0.1190768  0.12377451 0.13562092 0.12908497\n",
            " 0.13459967 0.12806373 0.13031046 0.12724673 0.13521242 0.14522059\n",
            " 0.15257353 0.14848856 0.14338235 0.14562908 0.15236928 0.15400327\n",
            " 0.14971405 0.1621732  0.16319444 0.16584967 0.16671215 0.16844943\n",
            " 0.16936055 0.16996883 0.17048262 0.17098494 0.17150871 0.17206329\n",
            " 0.17264606 0.17324895 0.17386262 0.1744788  0.17509122 0.17569579\n",
            " 0.1762906  0.17687504 0.1774496  0.17801525 0.17857309 0.17912416\n",
            " 0.17966935 0.18020913 0.18074377 0.1812734  0.1817977  0.1823165\n",
            " 0.18282935 0.18333592 0.18383579 0.18432862]\n",
            "29 day input [[0.18481408]]\n",
            "[[0.16844943165779114], [0.16936054825782776], [0.16996882855892181], [0.17048262059688568], [0.17098493874073029], [0.17150871455669403], [0.17206329107284546], [0.17264606058597565], [0.17324894666671753], [0.17386262118816376], [0.17447879910469055], [0.1750912219285965], [0.17569579184055328], [0.1762906014919281], [0.176875039935112], [0.17744959890842438], [0.17801524698734283], [0.17857308685779572], [0.1791241616010666], [0.1796693503856659], [0.18020913004875183], [0.1807437688112259], [0.18127340078353882], [0.18179769814014435], [0.18231649696826935], [0.182829350233078], [0.18333591520786285], [0.18383578956127167], [0.1843286156654358], [0.18481408059597015]]\n"
          ]
        }
      ]
    },
    {
      "cell_type": "code",
      "source": [
        "day_new = np.arange(1,101)\n",
        "day_pred = np.arange(101,131)"
      ],
      "metadata": {
        "id": "lQ0z5mmieuU6"
      },
      "execution_count": 36,
      "outputs": []
    },
    {
      "cell_type": "code",
      "source": [
        "df = dataclose.tolist()\n",
        "df.extend(lst_output)"
      ],
      "metadata": {
        "id": "UGbXNlA0f2Ht"
      },
      "execution_count": 37,
      "outputs": []
    },
    {
      "cell_type": "code",
      "source": [
        "len(dataclose)"
      ],
      "metadata": {
        "colab": {
          "base_uri": "https://localhost:8080/"
        },
        "id": "LXAnnGgkgDN2",
        "outputId": "a699a5ab-56bb-4b08-e320-686889810e9f"
      },
      "execution_count": 38,
      "outputs": [
        {
          "output_type": "execute_result",
          "data": {
            "text/plain": [
              "2035"
            ]
          },
          "metadata": {},
          "execution_count": 38
        }
      ]
    },
    {
      "cell_type": "code",
      "source": [
        "plt.plot(day_new, SC.inverse_transform(dataclose[1935:]))\n",
        "plt.plot(day_pred, SC.inverse_transform(lst_output))"
      ],
      "metadata": {
        "colab": {
          "base_uri": "https://localhost:8080/",
          "height": 447
        },
        "id": "IiA_SdlpgGoi",
        "outputId": "52a8df8e-4c38-4c7b-b1b9-14bd1fe3b9be"
      },
      "execution_count": 39,
      "outputs": [
        {
          "output_type": "execute_result",
          "data": {
            "text/plain": [
              "[<matplotlib.lines.Line2D at 0x7f8f3942e160>]"
            ]
          },
          "metadata": {},
          "execution_count": 39
        },
        {
          "output_type": "display_data",
          "data": {
            "text/plain": [
              "<Figure size 640x480 with 1 Axes>"
            ],
            "image/png": "[encoded data removed]"
          },
          "metadata": {}
        }
      ]
    },
    {
      "cell_type": "code",
      "source": [],
      "metadata": {
        "id": "U0isej83grGt"
      },
      "execution_count": null,
      "outputs": []
    }
  ]
}